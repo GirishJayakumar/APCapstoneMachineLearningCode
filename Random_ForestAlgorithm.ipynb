{
  "nbformat": 4,
  "nbformat_minor": 0,
  "metadata": {
    "colab": {
      "provenance": [],
      "collapsed_sections": [],
      "authorship_tag": "ABX9TyPuHGXtlyhstML2KqeWePXW",
      "include_colab_link": true
    },
    "kernelspec": {
      "name": "python3",
      "display_name": "Python 3"
    },
    "language_info": {
      "name": "python"
    }
  },
  "cells": [
    {
      "cell_type": "markdown",
      "metadata": {
        "id": "view-in-github",
        "colab_type": "text"
      },
      "source": [
        "<a href=\"https://colab.research.google.com/github/GirishJayakumar/APCapstoneMachineLearningCode/blob/main/CodeForCapstoneResearch_Random_Forest.ipynb\" target=\"_parent\"><img src=\"https://colab.research.google.com/assets/colab-badge.svg\" alt=\"Open In Colab\"/></a>"
      ]
    },
    {
      "cell_type": "code",
      "source": [
        "import warnings\n",
        "warnings.filterwarnings('ignore')\n",
        "#Data Manipulation and Treatment\n",
        "import numpy as np\n",
        "import pandas as pd\n",
        "import datetime as dt\n",
        "from datetime import timedelta\n",
        "#Plotting and Visualizations\n",
        "import matplotlib.pyplot as plt\n",
        "import seaborn as sns\n",
        "!pip install plotly\n",
        "import plotly.express as px\n",
        "import plotly.graph_objects as go\n",
        "from plotly.subplots import make_subplots\n",
        "#Scikit-Learn for Modeling\n",
        "from sklearn.metrics import mean_squared_error,r2_score, mean_absolute_error,mean_squared_log_error\n",
        "#Statistics\n",
        "import statsmodels.api as sm\n",
        "from statsmodels.tsa.api import Holt,SimpleExpSmoothing,ExponentialSmoothing\n",
        "from sklearn.ensemble import RandomForestRegressor\n",
        "from sklearn.model_selection import ParameterGrid\n",
        "from sklearn import metrics\n",
        "\n",
        "\n",
        "from array import array\n",
        "\n",
        "\n"
      ],
      "metadata": {
        "colab": {
          "base_uri": "https://localhost:8080/"
        },
        "id": "GNGD4E-HMGzM",
        "outputId": "36e3888e-818a-4bf8-a0a8-f1aa09050d85"
      },
      "execution_count": null,
      "outputs": [
        {
          "output_type": "stream",
          "name": "stdout",
          "text": [
            "Requirement already satisfied: plotly in /usr/local/lib/python3.7/dist-packages (5.5.0)\n",
            "Requirement already satisfied: tenacity>=6.2.0 in /usr/local/lib/python3.7/dist-packages (from plotly) (8.0.1)\n",
            "Requirement already satisfied: six in /usr/local/lib/python3.7/dist-packages (from plotly) (1.15.0)\n"
          ]
        }
      ]
    },
    {
      "cell_type": "code",
      "source": [
        "import datetime as dt\n",
        "import pandas as pd\n",
        "import numpy as np\n",
        "from numpy import arange\n",
        "import matplotlib.pyplot as plt\n",
        "from pandas import read_csv\n",
        "from sklearn import metrics\n",
        "from sklearn.model_selection import train_test_split\n",
        "from sklearn.ensemble import RandomForestRegressor\n",
        "from sklearn.preprocessing import StandardScaler\n",
        "from sklearn.model_selection import RandomizedSearchCV"
      ],
      "metadata": {
        "id": "azZfKX1-Wf-O"
      },
      "execution_count": null,
      "outputs": []
    },
    {
      "cell_type": "code",
      "source": [
        "df1 = pd.read_csv(\"MU.csv\")\n",
        "df1.set_index(\"Date\", inplace=True)\n",
        "df1['Close'].plot()\n",
        "plt.ylabel(\"Close Prices\")\n",
        "plt.show()"
      ],
      "metadata": {
        "colab": {
          "base_uri": "https://localhost:8080/",
          "height": 280
        },
        "id": "hGmgWHy8MG8H",
        "outputId": "1332c96a-6718-4634-85ca-c81666cc12ab"
      },
      "execution_count": null,
      "outputs": [
        {
          "output_type": "display_data",
          "data": {
            "image/png": "[encoded data removed]",
            "text/plain": [
              "<Figure size 432x288 with 1 Axes>"
            ]
          },
          "metadata": {
            "needs_background": "light"
          }
        }
      ]
    },
    {
      "cell_type": "code",
      "source": [
        "x = df1.iloc[:, 0:5].values\n",
        "y = df1.iloc[:, 4].values"
      ],
      "metadata": {
        "id": "okv3qS7GMHFB"
      },
      "execution_count": null,
      "outputs": []
    },
    {
      "cell_type": "code",
      "source": [
        "x_train, x_test, y_train, y_test = train_test_split(x, y, test_size=0.2,  random_state=0)\n"
      ],
      "metadata": {
        "id": "9NT2UeqhMHHG"
      },
      "execution_count": null,
      "outputs": []
    },
    {
      "cell_type": "code",
      "source": [
        "scale = StandardScaler()\n",
        "x_train = scale.fit_transform(x_train)\n",
        "x_test = scale.transform(x_test)"
      ],
      "metadata": {
        "id": "8d8tKyVuMHJn"
      },
      "execution_count": null,
      "outputs": []
    },
    {
      "cell_type": "code",
      "source": [
        "model = RandomForestRegressor(n_estimators=500, random_state=42, min_samples_split=2, min_samples_leaf=1, max_depth=10, bootstrap=True)\n",
        "model.fit(x_train, y_train)\n",
        "predict = model.predict(x_test)\n",
        "print(predict)\n",
        "print(predict.shape)"
      ],
      "metadata": {
        "colab": {
          "base_uri": "https://localhost:8080/"
        },
        "id": "i-06m5wbXsLv",
        "outputId": "db7d3ce5-8cfa-4ff9-8cb3-a038064d5ecf"
      },
      "execution_count": null,
      "outputs": [
        {
          "output_type": "stream",
          "name": "stdout",
          "text": [
            "[24.30507924 33.37038072 26.69153658 74.69965562 41.49993274 23.05729244\n",
            " 46.50124265 38.49896596 54.11510081 39.65232913 39.4962945  70.02894204\n",
            " 46.45719655 36.90343281 57.34817989 60.64002978 47.77365094 72.47866531\n",
            " 30.67053422 54.46871822 48.29821406 30.14870706 47.37672922 34.55960705\n",
            " 72.21235387 43.62197836 50.74913729 80.25392596 37.9212697  43.06352789\n",
            " 35.86982252 45.14751292 68.55187873 28.51783729 95.63158745 47.65982748\n",
            " 50.23239794 51.36669527 31.81284959 50.49630498 46.43123352 83.76030207\n",
            " 74.74600453 68.75104669 49.96191262 23.98801687 72.14128353 80.1716404\n",
            " 29.58024588 56.71405392 61.55465685 42.70625474 79.16468299 27.19593327\n",
            " 44.05812278 61.23639562 80.91556335 78.46596224 28.70516965 32.20414916\n",
            " 52.50718702 44.66703559 87.5884879  37.66486943 51.80382822 45.6483239\n",
            " 68.22519052 36.02922444 83.8196725  83.93231402 34.16861771 41.41438717\n",
            " 90.81290746 23.22051983 30.37309228 48.04970982 61.56138027 45.03511076\n",
            " 44.21934779 83.3699147  42.35861136 48.45362732 47.86753937 69.86124845\n",
            " 73.81922214 35.91426985 45.10940528 41.52121446 81.05317958 39.68582024\n",
            " 42.77653562 52.23671693 63.82144371 43.97918865 95.43109084 75.34818105\n",
            " 44.29581483 44.41705695 59.07117669 41.73212287 33.90171362 75.1865248\n",
            " 83.23127521 45.22581082 39.50263173 55.31310348 41.2180361  56.93314072\n",
            " 44.77440748 27.14238486 37.3018913  31.51284416 55.27760018 50.73642127\n",
            " 31.64769592 30.4015712  82.91723353 78.34845859 52.13997515 49.74504584\n",
            " 31.07562486 37.83216751 69.42887252 43.6071392  90.47061123 42.16154235\n",
            " 60.99681177 45.11235734 24.54323738 44.88026616 70.75392296 79.3697216\n",
            " 53.26728102 76.93410553 50.58234052 40.79126472 85.22244961 52.68282174\n",
            " 49.58118296 52.42992872 32.58996531 80.35806844 40.24547194 43.37952058\n",
            " 38.46699819 76.81915455 58.75247397 49.33454322 37.94905425 41.55165409\n",
            " 40.98419435 72.86145145 47.0315475  57.38014096 78.16339607 81.91371132\n",
            " 36.34264968 57.09545282 49.84752648 68.13924941 51.07564065 36.06135724\n",
            " 34.6454183  93.63476073 72.38950788 42.49069442 39.82016248 44.84322777\n",
            " 48.87765317 48.91420516 51.24350275 35.5664434  50.8512953  56.41330496\n",
            " 43.21411037 36.80521578 51.38255081 26.06055326 42.35633689 94.16634818\n",
            " 86.12480175 41.94870602 45.17626107 43.84829322 51.95161596 54.90675179\n",
            " 43.56225166 51.09260551 56.09590344 43.62834858 42.87737833 81.96260489\n",
            " 47.0388164  68.04235809 67.06073014 27.60745054 57.53782037 51.81988619\n",
            " 84.93253061 80.3105409  32.58061808 39.89233814 51.35678258 54.30395993\n",
            " 43.60607155 48.37052493 88.71997568 28.55596694 50.8512953  46.6862287\n",
            " 73.89158336 90.96265565 44.13759584 42.96868569 41.21024466 46.04192184\n",
            " 45.10934077 26.72525814 72.82422216 43.10411701 25.13167787 43.16512752\n",
            " 95.73592873 38.35308647 54.47037415 43.19095405 50.29896152 86.11010885\n",
            " 45.41485372 43.36726879 53.05957671 53.5993221  84.97627317 49.88567262\n",
            " 42.22496941 80.52650306 95.80416271 84.76627721 29.17218011 37.83423323\n",
            " 38.88533327 23.85287188 76.82446278 30.29607874 30.22645183 76.81144029\n",
            " 37.26041648 76.89653785 25.8074275  41.6136851  27.72040763 78.88907999]\n",
            "(252,)\n"
          ]
        }
      ]
    },
    {
      "cell_type": "code",
      "source": [
        "print(\"Mean Absolute Error:\", round(metrics.mean_absolute_error(y_test, predict), 4))\n",
        "print(\"Mean Squared Error:\", round(metrics.mean_squared_error(y_test, predict), 4))\n",
        "print(\"Root Mean Squared Error:\", round(np.sqrt(metrics.mean_squared_error(y_test, predict)), 4))\n",
        "print(\"(R^2) Score:\", round(metrics.r2_score(y_test, predict), 4))\n",
        "print(f'Train Score : {model.score(x_train, y_train) * 100:.2f}% and Test Score : {model.score(x_test, y_test) * 100:.2f}% using Random Tree Regressor.')\n",
        "errors = abs(predict - y_test)\n",
        "mape = 100 * (errors / y_test)\n",
        "accuracy = 100 - np.mean(mape)\n",
        "print('Accuracy:', round(accuracy, 2), '%.') "
      ],
      "metadata": {
        "colab": {
          "base_uri": "https://localhost:8080/"
        },
        "id": "mD3Ocry_XjSB",
        "outputId": "fbf70b39-3bb7-4a13-f3f2-838df9947d78"
      },
      "execution_count": null,
      "outputs": [
        {
          "output_type": "stream",
          "name": "stdout",
          "text": [
            "Mean Absolute Error: 0.0642\n",
            "Mean Squared Error: 0.0233\n",
            "Root Mean Squared Error: 0.1526\n",
            "(R^2) Score: 0.9999\n",
            "Train Score : 100.00% and Test Score : 99.99% using Random Tree Regressor.\n",
            "Accuracy: 99.89 %.\n"
          ]
        }
      ]
    }
  ]
}
